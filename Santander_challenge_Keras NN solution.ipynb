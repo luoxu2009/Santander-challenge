{
 "cells": [
  {
   "cell_type": "code",
   "execution_count": 1,
   "metadata": {},
   "outputs": [],
   "source": [
    "import pandas as pd\n",
    "import numpy as np\n",
    "import matplotlib.pyplot as plt\n",
    "%matplotlib inline\n"
   ]
  },
  {
   "cell_type": "code",
   "execution_count": 2,
   "metadata": {},
   "outputs": [],
   "source": [
    "file_name='train.csv'\n",
    "Train_all=pd.read_csv(file_name)\n",
    "y_trn_all=Train_all['target']\n",
    "X_trn_all=Train_all.drop(['target','ID_code'], axis=1)"
   ]
  },
  {
   "cell_type": "code",
   "execution_count": 3,
   "metadata": {},
   "outputs": [],
   "source": [
    "## import train_test_split to create a test set from train data\n",
    "from sklearn.model_selection import train_test_split\n",
    "Train_X, Test_X, Train_y, Test_y=train_test_split(X_trn_all, y_trn_all, test_size=0.3)"
   ]
  },
  {
   "cell_type": "code",
   "execution_count": 4,
   "metadata": {},
   "outputs": [],
   "source": [
    "from sklearn.preprocessing import StandardScaler\n",
    "Scaler=StandardScaler()\n",
    "Scaler.fit(Train_X)\n",
    "Train_X=Scaler.transform(Train_X)\n",
    "Test_X=Scaler.transform(Test_X)"
   ]
  },
  {
   "cell_type": "code",
   "execution_count": 5,
   "metadata": {},
   "outputs": [
    {
     "name": "stderr",
     "output_type": "stream",
     "text": [
      "C:\\Users\\sweet\\Anaconda3\\lib\\site-packages\\h5py\\__init__.py:36: FutureWarning: Conversion of the second argument of issubdtype from `float` to `np.floating` is deprecated. In future, it will be treated as `np.float64 == np.dtype(float).type`.\n",
      "  from ._conv import register_converters as _register_converters\n",
      "Using TensorFlow backend.\n"
     ]
    }
   ],
   "source": [
    "from keras.models import Sequential\n",
    "from keras.layers import Dense\n"
   ]
  },
  {
   "cell_type": "code",
   "execution_count": 6,
   "metadata": {},
   "outputs": [],
   "source": [
    "## build NN model\n",
    "NN=Sequential()\n",
    "NN.add(Dense(32, activation='relu', input_shape=(200,)))\n",
    "NN.add(Dense(8, activation='relu'))\n",
    "NN.add(Dense(1, activation='sigmoid'))"
   ]
  },
  {
   "cell_type": "code",
   "execution_count": 7,
   "metadata": {},
   "outputs": [
    {
     "name": "stdout",
     "output_type": "stream",
     "text": [
      "Epoch 1/10\n",
      "140000/140000 [==============================] - 151s 1ms/step - loss: 0.2512 - acc: 0.9078\n",
      "Epoch 2/10\n",
      "140000/140000 [==============================] - 147s 1ms/step - loss: 0.2390 - acc: 0.9121\n",
      "Epoch 3/10\n",
      "140000/140000 [==============================] - 155s 1ms/step - loss: 0.2356 - acc: 0.9135\n",
      "Epoch 4/10\n",
      "140000/140000 [==============================] - 143s 1ms/step - loss: 0.2332 - acc: 0.9148\n",
      "Epoch 5/10\n",
      "140000/140000 [==============================] - 142s 1ms/step - loss: 0.2306 - acc: 0.9158\n",
      "Epoch 6/10\n",
      "140000/140000 [==============================] - 144s 1ms/step - loss: 0.2281 - acc: 0.9169\n",
      "Epoch 7/10\n",
      "140000/140000 [==============================] - 145s 1ms/step - loss: 0.2262 - acc: 0.9184\n",
      "Epoch 8/10\n",
      "140000/140000 [==============================] - 156s 1ms/step - loss: 0.2242 - acc: 0.9196\n",
      "Epoch 9/10\n",
      "140000/140000 [==============================] - 158s 1ms/step - loss: 0.2229 - acc: 0.9209\n",
      "Epoch 10/10\n",
      "140000/140000 [==============================] - 155s 1ms/step - loss: 0.2211 - acc: 0.9213\n"
     ]
    },
    {
     "data": {
      "text/plain": [
       "<keras.callbacks.History at 0x146043faa90>"
      ]
     },
     "execution_count": 7,
     "metadata": {},
     "output_type": "execute_result"
    }
   ],
   "source": [
    "NN.compile(loss='binary_crossentropy', optimizer='adam', metrics=['accuracy'])\n",
    "NN.fit(Train_X, Train_y, epochs=10, batch_size=1, verbose=1)"
   ]
  },
  {
   "cell_type": "code",
   "execution_count": 8,
   "metadata": {},
   "outputs": [],
   "source": [
    "y_pred=NN.predict_classes(Test_X)"
   ]
  },
  {
   "cell_type": "code",
   "execution_count": 10,
   "metadata": {},
   "outputs": [
    {
     "name": "stdout",
     "output_type": "stream",
     "text": [
      "[[53225   784]\n",
      " [ 4656  1335]]\n",
      "             precision    recall  f1-score   support\n",
      "\n",
      "          0       0.92      0.99      0.95     54009\n",
      "          1       0.63      0.22      0.33      5991\n",
      "\n",
      "avg / total       0.89      0.91      0.89     60000\n",
      "\n",
      "0.8250244363687984\n"
     ]
    }
   ],
   "source": [
    "from sklearn.metrics import confusion_matrix, roc_auc_score, classification_report\n",
    "print(confusion_matrix(Test_y, y_pred))\n",
    "print(classification_report(Test_y, y_pred))\n",
    "print(roc_auc_score(Test_y, NN.predict(Test_X)))"
   ]
  },
  {
   "cell_type": "code",
   "execution_count": 11,
   "metadata": {},
   "outputs": [],
   "source": [
    "#import Test data from Santander and make predictions\n",
    "Test_Real=pd.read_csv('test.csv')"
   ]
  },
  {
   "cell_type": "code",
   "execution_count": 13,
   "metadata": {},
   "outputs": [],
   "source": [
    "Test_Real_X=Test_Real.drop(['ID_code'], axis=1)\n",
    "Test_Real_X=Scaler.transform(Test_Real_X)\n",
    "Test_Real_pred=NN.predict(Test_Real_X)"
   ]
  },
  {
   "cell_type": "code",
   "execution_count": 17,
   "metadata": {},
   "outputs": [],
   "source": [
    "Test_Real_pred=Test_Real_pred.reshape(len(Test_Real_pred),)"
   ]
  },
  {
   "cell_type": "code",
   "execution_count": 19,
   "metadata": {},
   "outputs": [],
   "source": [
    "submission=pd.DataFrame({'ID_code':Test_Real['ID_code'], 'target':Test_Real_pred})\n",
    "submission.to_csv('submission_v2.csv', index=False)"
   ]
  }
 ],
 "metadata": {
  "kernelspec": {
   "display_name": "Python 3",
   "language": "python",
   "name": "python3"
  },
  "language_info": {
   "codemirror_mode": {
    "name": "ipython",
    "version": 3
   },
   "file_extension": ".py",
   "mimetype": "text/x-python",
   "name": "python",
   "nbconvert_exporter": "python",
   "pygments_lexer": "ipython3",
   "version": "3.6.5"
  }
 },
 "nbformat": 4,
 "nbformat_minor": 2
}
